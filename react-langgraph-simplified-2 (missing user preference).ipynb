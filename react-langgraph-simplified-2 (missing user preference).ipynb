{
 "cells": [
  {
   "cell_type": "code",
   "execution_count": 1,
   "metadata": {},
   "outputs": [
    {
     "name": "stderr",
     "output_type": "stream",
     "text": [
      "/Library/Frameworks/Python.framework/Versions/3.12/lib/python3.12/site-packages/tqdm/auto.py:21: TqdmWarning: IProgress not found. Please update jupyter and ipywidgets. See https://ipywidgets.readthedocs.io/en/stable/user_install.html\n",
      "  from .autonotebook import tqdm as notebook_tqdm\n",
      "/Library/Frameworks/Python.framework/Versions/3.12/lib/python3.12/site-packages/transformers/tokenization_utils_base.py:1617: FutureWarning: `clean_up_tokenization_spaces` was not set. It will be set to `True` by default. This behavior will be deprecated in transformers v4.45, and will be then set to `False` by default. For more details check this issue: https://github.com/huggingface/transformers/issues/31884\n",
      "  warnings.warn(\n"
     ]
    }
   ],
   "source": [
    "import os\n",
    "from langchain_openai import ChatOpenAI\n",
    "from langgraph.graph import Graph\n",
    "from langgraph.prebuilt import create_react_agent\n",
    "import gradio as gr\n",
    "from datetime import datetime\n",
    "\n",
    "# Import tools\n",
    "from tools.calculator import CalculatorTool\n",
    "from tools.city_recommender import CityRecommendationTool\n",
    "from tools.hotel_search import HotelSearchTool\n",
    "from tools.flight_search import FlightSearchTool\n",
    "from tools.attractions_tool import CityAttractionsTool\n",
    "from city_vector_db import CityVectorDB"
   ]
  },
  {
   "cell_type": "code",
   "execution_count": 2,
   "metadata": {},
   "outputs": [],
   "source": [
    "def initialize_tools():\n",
    "\n",
    "    vector_db = CityVectorDB()\n",
    "    vector_db.load(\"cities_vector_db\")\n",
    "\n",
    "    tools = [\n",
    "        FlightSearchTool(api_key=os.getenv('SERPAPI_API_KEY')),\n",
    "        CityAttractionsTool(),\n",
    "        HotelSearchTool(api_key=os.getenv('SERPAPI_API_KEY')),\n",
    "        CalculatorTool(), \n",
    "        CityRecommendationTool(vector_db=vector_db)\n",
    "    ]\n",
    "    \n",
    "    return tools"
   ]
  },
  {
   "cell_type": "code",
   "execution_count": 3,
   "metadata": {},
   "outputs": [],
   "source": [
    "tools = initialize_tools()"
   ]
  },
  {
   "cell_type": "code",
   "execution_count": 4,
   "metadata": {},
   "outputs": [],
   "source": [
    "system_prompt = f\"\"\"You are a helpful travel assistant named Fred.\n",
    "\n",
    "Follow these steps in order:\n",
    "\n",
    "1. CITY RECOMMENDATION:\n",
    "   - Use the city_recommendation_tool and the user's given preference EXACTLY ONCE to suggest a city\n",
    "   \n",
    "2. FLIGHT SEARCH:\n",
    "   - Use the user's given source as the departure_airport and the first recommended city as the arrival_airport\n",
    "   - Ask for specific travel dates (departure and return, if return is not given, ask for it and get the duration of the trip)\n",
    "   - Use flight_search_tool with IATA codes\n",
    "   - Format: {{\n",
    "       'departure_airport': '[IATA code]',\n",
    "       'arrival_airport': '[IATA code]',\n",
    "       'departure_date': 'YYYY-MM-DD',\n",
    "       'return_date': 'YYYY-MM-DD'  # Optional for one-way flights\n",
    "   }}\n",
    "\n",
    "3. HOTEL SEARCH\n",
    "   - Look for hotels in the recommended city for the dates of the flight (departure and return date) and pick the cheapest one\n",
    "\n",
    "4. ATTRACTIONS:\n",
    "   - Once the hotel and flight are selected, use the city_attractions_tool to get the top attractions in the recommended city. Make sure you match the correct formats for the tool\n",
    "\n",
    "5. CALCULATOR:\n",
    "   - Use the calculator_tool to sum up the selected flight and hotel costs and also provide the breakdown of the costs   \n",
    "\n",
    "6. END:\n",
    "   - Once the user is done with the conversation, thank them and end the conversation\n",
    "   \n",
    "Remember that today's date is {datetime.now().strftime('%Y-%m-%d')}. Only search for future dates.\n",
    "Do not repeat city recommendations unless explicitly asked by the user.\n",
    "\n",
    "For eg. If the user's name is John Lincoln, they like skiing and are flying from New York. First, recommend a city using the city_recommendation_tool. Ask the user where they are flying from and the dates of travel if they haven't given it. Use the flight_search_tool to get the flight details.\n",
    "Then look for hotels in the destination for the dates of the flight (departure and return date) using the hotel_search_tool. Then look for attractions in the destination using the city_attractions_tool.\n",
    "Then calculate the cost of the trip using the calculator_tool. Inform the user of their whole itinerary.\n",
    "\"\"\""
   ]
  },
  {
   "cell_type": "code",
   "execution_count": 5,
   "metadata": {},
   "outputs": [],
   "source": [
    "def create_agent(system_prompt):\n",
    "    model = ChatOpenAI(model=\"gpt-4-turbo\")\n",
    "    tools = initialize_tools()\n",
    "    return create_react_agent(model, tools=tools, state_modifier=system_prompt, debug=True)"
   ]
  },
  {
   "cell_type": "code",
   "execution_count": 6,
   "metadata": {},
   "outputs": [
    {
     "name": "stderr",
     "output_type": "stream",
     "text": [
      "/Library/Frameworks/Python.framework/Versions/3.12/lib/python3.12/site-packages/transformers/tokenization_utils_base.py:1617: FutureWarning: `clean_up_tokenization_spaces` was not set. It will be set to `True` by default. This behavior will be deprecated in transformers v4.45, and will be then set to `False` by default. For more details check this issue: https://github.com/huggingface/transformers/issues/31884\n",
      "  warnings.warn(\n"
     ]
    }
   ],
   "source": [
    "agent = create_agent(system_prompt)"
   ]
  },
  {
   "cell_type": "code",
   "execution_count": 7,
   "metadata": {},
   "outputs": [
    {
     "name": "stdout",
     "output_type": "stream",
     "text": [
      "\u001b[36;1m\u001b[1;3m[-1:checkpoint]\u001b[0m \u001b[1mState at the end of step -1:\n",
      "\u001b[0m{'messages': []}\n",
      "\u001b[36;1m\u001b[1;3m[0:tasks]\u001b[0m \u001b[1mStarting 1 task for step 0:\n",
      "\u001b[0m- \u001b[32;1m\u001b[1;3m__start__\u001b[0m -> {'messages': [('user',\n",
      "               'my name is sam controlman and i want to plan a holiday from '\n",
      "               '25th to 30th december.')]}\n",
      "\u001b[36;1m\u001b[1;3m[0:writes]\u001b[0m \u001b[1mFinished step 0 with writes to 1 channel:\n",
      "\u001b[0m- \u001b[33;1m\u001b[1;3mmessages\u001b[0m -> [('user',\n",
      "  'my name is sam controlman and i want to plan a holiday from 25th to 30th '\n",
      "  'december.')]\n",
      "\u001b[36;1m\u001b[1;3m[0:checkpoint]\u001b[0m \u001b[1mState at the end of step 0:\n",
      "\u001b[0m{'messages': [HumanMessage(content='my name is sam controlman and i want to plan a holiday from 25th to 30th december.', additional_kwargs={}, response_metadata={}, id='8a593a17-4381-42cf-99d5-c418fb45a61e')]}\n",
      "\u001b[36;1m\u001b[1;3m[1:tasks]\u001b[0m \u001b[1mStarting 1 task for step 1:\n",
      "\u001b[0m- \u001b[32;1m\u001b[1;3magent\u001b[0m -> {'is_last_step': False,\n",
      " 'messages': [HumanMessage(content='my name is sam controlman and i want to plan a holiday from 25th to 30th december.', additional_kwargs={}, response_metadata={}, id='8a593a17-4381-42cf-99d5-c418fb45a61e')],\n",
      " 'remaining_steps': 24}\n",
      "\u001b[36;1m\u001b[1;3m[1:writes]\u001b[0m \u001b[1mFinished step 1 with writes to 1 channel:\n",
      "\u001b[0m- \u001b[33;1m\u001b[1;3mmessages\u001b[0m -> [AIMessage(content=\"Hi Sam! Could you please share your preferences for the type of holiday you're interested in? For example, are you looking for a beach vacation, cultural experiences, adventure sports, etc.? Additionally, could you let me know where you'll be flying from?\", additional_kwargs={'refusal': None}, response_metadata={'token_usage': {'completion_tokens': 53, 'prompt_tokens': 1193, 'total_tokens': 1246, 'completion_tokens_details': {'accepted_prediction_tokens': 0, 'audio_tokens': 0, 'reasoning_tokens': 0, 'rejected_prediction_tokens': 0}, 'prompt_tokens_details': {'audio_tokens': 0, 'cached_tokens': 0}}, 'model_name': 'gpt-4-turbo-2024-04-09', 'system_fingerprint': 'fp_1e9a2d1e89', 'finish_reason': 'stop', 'logprobs': None}, id='run-d910e4b7-0895-49b6-8309-d9b6d3d23157-0', usage_metadata={'input_tokens': 1193, 'output_tokens': 53, 'total_tokens': 1246, 'input_token_details': {'audio': 0, 'cache_read': 0}, 'output_token_details': {'audio': 0, 'reasoning': 0}})]\n",
      "\u001b[36;1m\u001b[1;3m[1:checkpoint]\u001b[0m \u001b[1mState at the end of step 1:\n",
      "\u001b[0m{'messages': [HumanMessage(content='my name is sam controlman and i want to plan a holiday from 25th to 30th december.', additional_kwargs={}, response_metadata={}, id='8a593a17-4381-42cf-99d5-c418fb45a61e'),\n",
      "              AIMessage(content=\"Hi Sam! Could you please share your preferences for the type of holiday you're interested in? For example, are you looking for a beach vacation, cultural experiences, adventure sports, etc.? Additionally, could you let me know where you'll be flying from?\", additional_kwargs={'refusal': None}, response_metadata={'token_usage': {'completion_tokens': 53, 'prompt_tokens': 1193, 'total_tokens': 1246, 'completion_tokens_details': {'accepted_prediction_tokens': 0, 'audio_tokens': 0, 'reasoning_tokens': 0, 'rejected_prediction_tokens': 0}, 'prompt_tokens_details': {'audio_tokens': 0, 'cached_tokens': 0}}, 'model_name': 'gpt-4-turbo-2024-04-09', 'system_fingerprint': 'fp_1e9a2d1e89', 'finish_reason': 'stop', 'logprobs': None}, id='run-d910e4b7-0895-49b6-8309-d9b6d3d23157-0', usage_metadata={'input_tokens': 1193, 'output_tokens': 53, 'total_tokens': 1246, 'input_token_details': {'audio': 0, 'cache_read': 0}, 'output_token_details': {'audio': 0, 'reasoning': 0}})]}\n",
      "Total Tokens: 1246\n",
      "Prompt Tokens: 1193\n",
      "Completion Tokens: 53\n",
      "Total Cost (USD): $0.0135\n"
     ]
    }
   ],
   "source": [
    "from langchain.callbacks import get_openai_callback\n",
    "\n",
    "messages = [(\"user\", \"my name is sam controlman and i want to plan a holiday from 25th to 30th december.\")]\n",
    "\n",
    "with get_openai_callback() as cb:\n",
    "    response = agent.invoke({\"messages\": messages})\n",
    "    print(f\"Total Tokens: {cb.total_tokens}\")\n",
    "    print(f\"Prompt Tokens: {cb.prompt_tokens}\")\n",
    "    print(f\"Completion Tokens: {cb.completion_tokens}\")\n",
    "    print(f\"Total Cost (USD): ${cb.total_cost:.4f}\")"
   ]
  },
  {
   "cell_type": "code",
   "execution_count": 8,
   "metadata": {},
   "outputs": [
    {
     "name": "stdout",
     "output_type": "stream",
     "text": [
      "Hi Sam! Could you please share your preferences for the type of holiday you're interested in? For example, are you looking for a beach vacation, cultural experiences, adventure sports, etc.? Additionally, could you let me know where you'll be flying from?\n"
     ]
    }
   ],
   "source": [
    "print(response['messages'][-1].content)"
   ]
  }
 ],
 "metadata": {
  "kernelspec": {
   "display_name": "Python 3 (ipykernel)",
   "language": "python",
   "name": "python3"
  },
  "language_info": {
   "codemirror_mode": {
    "name": "ipython",
    "version": 3
   },
   "file_extension": ".py",
   "mimetype": "text/x-python",
   "name": "python",
   "nbconvert_exporter": "python",
   "pygments_lexer": "ipython3",
   "version": "3.12.5"
  }
 },
 "nbformat": 4,
 "nbformat_minor": 4
}
