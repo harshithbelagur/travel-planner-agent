{
 "cells": [
  {
   "cell_type": "code",
   "execution_count": 1,
   "metadata": {},
   "outputs": [
    {
     "name": "stderr",
     "output_type": "stream",
     "text": [
      "/Library/Frameworks/Python.framework/Versions/3.12/lib/python3.12/site-packages/tqdm/auto.py:21: TqdmWarning: IProgress not found. Please update jupyter and ipywidgets. See https://ipywidgets.readthedocs.io/en/stable/user_install.html\n",
      "  from .autonotebook import tqdm as notebook_tqdm\n",
      "/Library/Frameworks/Python.framework/Versions/3.12/lib/python3.12/site-packages/transformers/tokenization_utils_base.py:1617: FutureWarning: `clean_up_tokenization_spaces` was not set. It will be set to `True` by default. This behavior will be deprecated in transformers v4.45, and will be then set to `False` by default. For more details check this issue: https://github.com/huggingface/transformers/issues/31884\n",
      "  warnings.warn(\n"
     ]
    }
   ],
   "source": [
    "import os\n",
    "from langchain_openai import ChatOpenAI\n",
    "from langgraph.graph import Graph\n",
    "from langgraph.prebuilt import create_react_agent\n",
    "import gradio as gr\n",
    "from datetime import datetime\n",
    "\n",
    "# Import tools\n",
    "from tools.calculator import CalculatorTool\n",
    "from tools.city_recommender import CityRecommendationTool\n",
    "from tools.email_tool import EmailItineraryTool\n",
    "from tools.hotel_search import HotelSearchTool\n",
    "from tools.user_preferences import UserPreferencesTool\n",
    "from tools.flight_search import FlightSearchTool\n",
    "from tools.map_tool import MapPlottingTool\n",
    "from tools.attractions_tool import CityAttractionsTool\n",
    "from city_vector_db import CityVectorDB"
   ]
  },
  {
   "cell_type": "code",
   "execution_count": 2,
   "metadata": {},
   "outputs": [],
   "source": [
    "def initialize_tools():\n",
    "\n",
    "    vector_db = CityVectorDB()\n",
    "    vector_db.load(\"cities_vector_db\")\n",
    "\n",
    "    tools = [\n",
    "        UserPreferencesTool(),\n",
    "        FlightSearchTool(api_key=os.getenv('SERPAPI_API_KEY')),\n",
    "        MapPlottingTool(),\n",
    "        EmailItineraryTool(\n",
    "            smtp_user=\"h.belagur1980@gmail.com\",\n",
    "            smtp_password=os.getenv('GMAIL_PASSWORD')\n",
    "        ),\n",
    "        CityAttractionsTool(),\n",
    "        HotelSearchTool(api_key=os.getenv('SERPAPI_API_KEY')),\n",
    "        CalculatorTool(), \n",
    "        CityRecommendationTool(vector_db=vector_db)\n",
    "    ]\n",
    "    return tools"
   ]
  },
  {
   "cell_type": "code",
   "execution_count": 3,
   "metadata": {},
   "outputs": [],
   "source": [
    "tools = initialize_tools()"
   ]
  },
  {
   "cell_type": "code",
   "execution_count": 4,
   "metadata": {},
   "outputs": [],
   "source": [
    "system_prompt = f\"\"\"You are a helpful travel assistant named Fred. Follow these steps in order, do not send an email until the conversation is over or the user explicitly asks for it:\n",
    "\n",
    "1. INITIAL GREETING:\n",
    "   - Get the user's name\n",
    "   - Using the name, check if they have stored preferences using the user_preferences_tool\n",
    "   \n",
    "2. PREFERENCES (only if needed):\n",
    "   - If no preferences exist, ask about their travel preferences\n",
    "   - Store their preferences using user_preferences_tool\n",
    "   \n",
    "3. CITY RECOMMENDATION:\n",
    "   - Use city_recommendation_tool EXACTLY ONCE to suggest cities\n",
    "   - Ask the user if they'd like to search for flights to any of the recommended cities\n",
    "   \n",
    "4. FLIGHT SEARCH (when user selects a destination):\n",
    "   - Use the user's hometown as the departure_airport, if it is not known, get it from the user\n",
    "   - Ask for specific travel dates (departure and return, if return is not given, get the duration of the trip)\n",
    "   - Use flight_search_tool with IATA codes\n",
    "   - Format: {{\n",
    "       'departure_airport': '[IATA code]',\n",
    "       'arrival_airport': '[IATA code]',\n",
    "       'departure_date': 'YYYY-MM-DD',\n",
    "       'return_date': 'YYYY-MM-DD'  # Optional for one-way flights\n",
    "   }}\n",
    "\n",
    "5. NEXT STEPS:\n",
    "   - After showing flight results, ask if they want to:\n",
    "     a) Search flights for different dates\n",
    "     b) Search for a different destination\n",
    "\n",
    "5. ATTRACTIONS:\n",
    "   - Once the user selects a destination and a flight, use the city_attractions_tool to get the top attractions in the destination. Make sure you match the correct formats for the tool\n",
    "\n",
    "6. MAP:\n",
    "   - Using the attractions retrieved, use the map_plotting_tool to create a map of the trip\n",
    "   \n",
    "7. HOTEL SEARCH (when user selects a destination and a flight):\n",
    "   - Look for hotels in the destination for the dates of the flight (departure and return date)\n",
    "\n",
    "8. CALCULATOR:\n",
    "   - If the user asks about the cost of a trip, use the calculator_tool to sum up the selected flight and hotel costs and also provide the breakdown of the costs   \n",
    "\n",
    "9. END:\n",
    "   - Once the user is done with the conversation, thank them, get their email and end the conversation telling them that you will email them the detials\n",
    "   \n",
    "Remember that today's date is {datetime.now().strftime('%Y-%m-%d')}. Only search for future dates.\n",
    "Do not repeat city recommendations unless explicitly asked by the user.\n",
    "\"\"\""
   ]
  },
  {
   "cell_type": "code",
   "execution_count": 5,
   "metadata": {},
   "outputs": [],
   "source": [
    "def create_agent(system_prompt):\n",
    "    model = ChatOpenAI(model=\"gpt-3.5-turbo\", api_key=os.getenv('OPENAI_API_KEY'))\n",
    "    tools = initialize_tools()\n",
    "    return create_react_agent(model, tools=tools, state_modifier=system_prompt)"
   ]
  },
  {
   "cell_type": "code",
   "execution_count": 6,
   "metadata": {},
   "outputs": [
    {
     "name": "stderr",
     "output_type": "stream",
     "text": [
      "/Library/Frameworks/Python.framework/Versions/3.12/lib/python3.12/site-packages/transformers/tokenization_utils_base.py:1617: FutureWarning: `clean_up_tokenization_spaces` was not set. It will be set to `True` by default. This behavior will be deprecated in transformers v4.45, and will be then set to `False` by default. For more details check this issue: https://github.com/huggingface/transformers/issues/31884\n",
      "  warnings.warn(\n"
     ]
    }
   ],
   "source": [
    "agent = create_agent(system_prompt)"
   ]
  },
  {
   "cell_type": "code",
   "execution_count": 7,
   "metadata": {},
   "outputs": [
    {
     "name": "stderr",
     "output_type": "stream",
     "text": [
      "/Library/Frameworks/Python.framework/Versions/3.12/lib/python3.12/site-packages/gradio/components/chatbot.py:243: UserWarning: The 'tuples' format for chatbot messages is deprecated and will be removed in a future version of Gradio. Please set type='messages' instead, which uses openai-style 'role' and 'content' keys.\n",
      "  warnings.warn(\n"
     ]
    },
    {
     "name": "stdout",
     "output_type": "stream",
     "text": [
      "* Running on local URL:  http://127.0.0.1:7860\n",
      "\n",
      "To create a public link, set `share=True` in `launch()`.\n"
     ]
    },
    {
     "data": {
      "text/html": [
       "<div><iframe src=\"http://127.0.0.1:7860/\" width=\"100%\" height=\"500\" allow=\"autoplay; camera; microphone; clipboard-read; clipboard-write;\" frameborder=\"0\" allowfullscreen></iframe></div>"
      ],
      "text/plain": [
       "<IPython.core.display.HTML object>"
      ]
     },
     "metadata": {},
     "output_type": "display_data"
    },
    {
     "data": {
      "text/plain": []
     },
     "execution_count": 7,
     "metadata": {},
     "output_type": "execute_result"
    }
   ],
   "source": [
    "def respond(message, history):\n",
    "    \"\"\"Process user message and return agent response\"\"\"\n",
    "    # Convert history to the format expected by the agent\n",
    "    messages = []\n",
    "    for human, assistant in history:\n",
    "        messages.append((\"user\", human))\n",
    "        if assistant:  # Skip None responses\n",
    "            messages.append((\"assistant\", assistant))\n",
    "    \n",
    "    # Add current message\n",
    "    messages.append((\"user\", message))\n",
    "    \n",
    "    # Process through graph and get response\n",
    "    inputs = {\"messages\": messages}\n",
    "    \n",
    "    try:\n",
    "        for s in agent.stream(inputs, stream_mode=\"values\"):\n",
    "            message = s[\"messages\"][-1]\n",
    "            # print(message)\n",
    "            if isinstance(message, tuple):\n",
    "                # Extract just the content from the tuple\n",
    "                response = message[1]\n",
    "            else:\n",
    "                # Extract content from AIMessage or other message types\n",
    "                response = message.content if hasattr(message, 'content') else str(message)\n",
    "            yield response\n",
    "    except Exception as e:\n",
    "        yield f\"Error: {str(e)}\\nPlease try again or refresh the page.\"\n",
    "\n",
    "# Update the Gradio interface\n",
    "demo = gr.ChatInterface(\n",
    "    respond,\n",
    "    title=\"Fred the Travel Assistant\",\n",
    "    description=\"Ask Fred about your next trip!\",\n",
    "    examples=[\"Hi, I'm planning a trip\"],\n",
    ")\n",
    "\n",
    "demo.launch()"
   ]
  },
  {
   "cell_type": "code",
   "execution_count": null,
   "metadata": {},
   "outputs": [],
   "source": []
  }
 ],
 "metadata": {
  "kernelspec": {
   "display_name": "Python 3 (ipykernel)",
   "language": "python",
   "name": "python3"
  },
  "language_info": {
   "codemirror_mode": {
    "name": "ipython",
    "version": 3
   },
   "file_extension": ".py",
   "mimetype": "text/x-python",
   "name": "python",
   "nbconvert_exporter": "python",
   "pygments_lexer": "ipython3",
   "version": "3.12.5"
  }
 },
 "nbformat": 4,
 "nbformat_minor": 4
}
