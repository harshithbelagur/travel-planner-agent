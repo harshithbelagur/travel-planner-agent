{
 "cells": [
  {
   "cell_type": "code",
   "execution_count": 1,
   "metadata": {},
   "outputs": [
    {
     "name": "stderr",
     "output_type": "stream",
     "text": [
      "/Library/Frameworks/Python.framework/Versions/3.12/lib/python3.12/site-packages/tqdm/auto.py:21: TqdmWarning: IProgress not found. Please update jupyter and ipywidgets. See https://ipywidgets.readthedocs.io/en/stable/user_install.html\n",
      "  from .autonotebook import tqdm as notebook_tqdm\n",
      "/Library/Frameworks/Python.framework/Versions/3.12/lib/python3.12/site-packages/transformers/tokenization_utils_base.py:1617: FutureWarning: `clean_up_tokenization_spaces` was not set. It will be set to `True` by default. This behavior will be deprecated in transformers v4.45, and will be then set to `False` by default. For more details check this issue: https://github.com/huggingface/transformers/issues/31884\n",
      "  warnings.warn(\n"
     ]
    }
   ],
   "source": [
    "import os\n",
    "from langchain_openai import ChatOpenAI\n",
    "from langgraph.graph import Graph\n",
    "from langgraph.prebuilt import create_react_agent\n",
    "import gradio as gr\n",
    "from datetime import datetime\n",
    "\n",
    "# Import tools\n",
    "from tools.calculator import CalculatorTool\n",
    "from tools.city_recommender import CityRecommendationTool\n",
    "from tools.hotel_search import HotelSearchTool\n",
    "from tools.flight_search import FlightSearchTool\n",
    "from tools.attractions_tool import CityAttractionsTool\n",
    "from city_vector_db import CityVectorDB"
   ]
  },
  {
   "cell_type": "code",
   "execution_count": 2,
   "metadata": {},
   "outputs": [],
   "source": [
    "def initialize_tools():\n",
    "\n",
    "    vector_db = CityVectorDB()\n",
    "    vector_db.load(\"cities_vector_db\")\n",
    "\n",
    "    tools = [\n",
    "        FlightSearchTool(api_key=os.getenv('SERPAPI_API_KEY')),\n",
    "        CityAttractionsTool(),\n",
    "        HotelSearchTool(api_key=os.getenv('SERPAPI_API_KEY')),\n",
    "        CityRecommendationTool(vector_db=vector_db),\n",
    "        CalculatorTool()\n",
    "    ]\n",
    "    return tools"
   ]
  },
  {
   "cell_type": "code",
   "execution_count": 3,
   "metadata": {},
   "outputs": [],
   "source": [
    "tools = initialize_tools()"
   ]
  },
  {
   "cell_type": "code",
   "execution_count": 4,
   "metadata": {},
   "outputs": [],
   "source": [
    "system_prompt = f\"\"\"You are a helpful travel assistant named Fred.\n",
    "\n",
    "Follow these steps in order:\n",
    "\n",
    "1. CITY RECOMMENDATION:\n",
    "   - Use the city_recommendation_tool and the user's given preference EXACTLY ONCE to suggest a city\n",
    "   \n",
    "2. FLIGHT SEARCH:\n",
    "   - Use the user's given source as the departure_airport and the first recommended city as the arrival_airport\n",
    "   - Ask for specific travel dates (departure and return, if return is not given, ask for it and get the duration of the trip)\n",
    "   - Use flight_search_tool with IATA codes\n",
    "   - Format: {{\n",
    "       'departure_airport': '[IATA code]',\n",
    "       'arrival_airport': '[IATA code]',\n",
    "       'departure_date': 'YYYY-MM-DD',\n",
    "       'return_date': 'YYYY-MM-DD'  # Optional for one-way flights\n",
    "   }}\n",
    "\n",
    "3. HOTEL SEARCH\n",
    "   - Look for hotels in the recommended city for the dates of the flight (departure and return date) and pick the cheapest one\n",
    "\n",
    "4. ATTRACTIONS:\n",
    "   - Once the hotel and flight are selected, use the city_attractions_tool to get the top attractions in the recommended city. Make sure you match the correct formats for the tool \n",
    "\n",
    "6. END:\n",
    "   - Once the user is done with the conversation, thank them and end the conversation\n",
    "   \n",
    "Remember that today's date is {datetime.now().strftime('%Y-%m-%d')}. Only search for future dates.\n",
    "Do not repeat city recommendations unless explicitly asked by the user.\n",
    "\n",
    "For eg. If the user's name is John Lincoln, they like skiing and are flying from New York. First, recommend a city using the city_recommendation_tool. Ask the user where they are flying from and the dates of travel if they haven't given it. Use the flight_search_tool to get the flight details.\n",
    "Then look for hotels in the destination for the dates of the flight (departure and return date) using the hotel_search_tool. Then look for attractions in the destination using the city_attractions_tool. Inform the user of their whole itinerary.\"\"\""
   ]
  },
  {
   "cell_type": "code",
   "execution_count": 5,
   "metadata": {},
   "outputs": [],
   "source": [
    "def create_agent(system_prompt):\n",
    "    model = ChatOpenAI(model=\"gpt-4-turbo\")\n",
    "    tools = initialize_tools()\n",
    "    return create_react_agent(model, tools=tools, state_modifier=system_prompt, debug=True)"
   ]
  },
  {
   "cell_type": "code",
   "execution_count": 6,
   "metadata": {},
   "outputs": [
    {
     "name": "stderr",
     "output_type": "stream",
     "text": [
      "/Library/Frameworks/Python.framework/Versions/3.12/lib/python3.12/site-packages/transformers/tokenization_utils_base.py:1617: FutureWarning: `clean_up_tokenization_spaces` was not set. It will be set to `True` by default. This behavior will be deprecated in transformers v4.45, and will be then set to `False` by default. For more details check this issue: https://github.com/huggingface/transformers/issues/31884\n",
      "  warnings.warn(\n"
     ]
    }
   ],
   "source": [
    "agent = create_agent(system_prompt)"
   ]
  },
  {
   "cell_type": "code",
   "execution_count": 7,
   "metadata": {},
   "outputs": [
    {
     "name": "stdout",
     "output_type": "stream",
     "text": [
      "\u001b[36;1m\u001b[1;3m[-1:checkpoint]\u001b[0m \u001b[1mState at the end of step -1:\n",
      "\u001b[0m{'messages': []}\n",
      "\u001b[36;1m\u001b[1;3m[0:tasks]\u001b[0m \u001b[1mStarting 1 task for step 0:\n",
      "\u001b[0m- \u001b[32;1m\u001b[1;3m__start__\u001b[0m -> {'messages': [('user',\n",
      "               'my name is sam controlman and i want to plan a holiday from '\n",
      "               '25th to 30th december. I like flying and am flying from '\n",
      "               'ABCD.')]}\n",
      "\u001b[36;1m\u001b[1;3m[0:writes]\u001b[0m \u001b[1mFinished step 0 with writes to 1 channel:\n",
      "\u001b[0m- \u001b[33;1m\u001b[1;3mmessages\u001b[0m -> [('user',\n",
      "  'my name is sam controlman and i want to plan a holiday from 25th to 30th '\n",
      "  'december. I like flying and am flying from ABCD.')]\n",
      "\u001b[36;1m\u001b[1;3m[0:checkpoint]\u001b[0m \u001b[1mState at the end of step 0:\n",
      "\u001b[0m{'messages': [HumanMessage(content='my name is sam controlman and i want to plan a holiday from 25th to 30th december. I like flying and am flying from ABCD.', additional_kwargs={}, response_metadata={}, id='ef038b95-a1ed-419c-96dc-d2b91c328d49')]}\n",
      "\u001b[36;1m\u001b[1;3m[1:tasks]\u001b[0m \u001b[1mStarting 1 task for step 1:\n",
      "\u001b[0m- \u001b[32;1m\u001b[1;3magent\u001b[0m -> {'is_last_step': False,\n",
      " 'messages': [HumanMessage(content='my name is sam controlman and i want to plan a holiday from 25th to 30th december. I like flying and am flying from ABCD.', additional_kwargs={}, response_metadata={}, id='ef038b95-a1ed-419c-96dc-d2b91c328d49')],\n",
      " 'remaining_steps': 24}\n",
      "\u001b[36;1m\u001b[1;3m[1:writes]\u001b[0m \u001b[1mFinished step 1 with writes to 1 channel:\n",
      "\u001b[0m- \u001b[33;1m\u001b[1;3mmessages\u001b[0m -> [AIMessage(content='It looks like you enjoy flying. Let me first find a suitable city recommendation for your holiday based on your interest. Please hold on a moment.', additional_kwargs={'tool_calls': [{'id': 'call_YOXvbf1do80N4I9gQbcyVU0W', 'function': {'arguments': '{\"user_preferences\":\"flying\"}', 'name': 'city_recommendation_tool'}, 'type': 'function'}], 'refusal': None}, response_metadata={'token_usage': {'completion_tokens': 48, 'prompt_tokens': 1203, 'total_tokens': 1251, 'completion_tokens_details': {'accepted_prediction_tokens': 0, 'audio_tokens': 0, 'reasoning_tokens': 0, 'rejected_prediction_tokens': 0}, 'prompt_tokens_details': {'audio_tokens': 0, 'cached_tokens': 0}}, 'model_name': 'gpt-4-turbo-2024-04-09', 'system_fingerprint': 'fp_cfb5f9efa7', 'finish_reason': 'tool_calls', 'logprobs': None}, id='run-281cf49d-7699-4c51-8307-f3e77bbb7795-0', tool_calls=[{'name': 'city_recommendation_tool', 'args': {'user_preferences': 'flying'}, 'id': 'call_YOXvbf1do80N4I9gQbcyVU0W', 'type': 'tool_call'}], usage_metadata={'input_tokens': 1203, 'output_tokens': 48, 'total_tokens': 1251, 'input_token_details': {'audio': 0, 'cache_read': 0}, 'output_token_details': {'audio': 0, 'reasoning': 0}})]\n",
      "\u001b[36;1m\u001b[1;3m[1:checkpoint]\u001b[0m \u001b[1mState at the end of step 1:\n",
      "\u001b[0m{'messages': [HumanMessage(content='my name is sam controlman and i want to plan a holiday from 25th to 30th december. I like flying and am flying from ABCD.', additional_kwargs={}, response_metadata={}, id='ef038b95-a1ed-419c-96dc-d2b91c328d49'),\n",
      "              AIMessage(content='It looks like you enjoy flying. Let me first find a suitable city recommendation for your holiday based on your interest. Please hold on a moment.', additional_kwargs={'tool_calls': [{'id': 'call_YOXvbf1do80N4I9gQbcyVU0W', 'function': {'arguments': '{\"user_preferences\":\"flying\"}', 'name': 'city_recommendation_tool'}, 'type': 'function'}], 'refusal': None}, response_metadata={'token_usage': {'completion_tokens': 48, 'prompt_tokens': 1203, 'total_tokens': 1251, 'completion_tokens_details': {'accepted_prediction_tokens': 0, 'audio_tokens': 0, 'reasoning_tokens': 0, 'rejected_prediction_tokens': 0}, 'prompt_tokens_details': {'audio_tokens': 0, 'cached_tokens': 0}}, 'model_name': 'gpt-4-turbo-2024-04-09', 'system_fingerprint': 'fp_cfb5f9efa7', 'finish_reason': 'tool_calls', 'logprobs': None}, id='run-281cf49d-7699-4c51-8307-f3e77bbb7795-0', tool_calls=[{'name': 'city_recommendation_tool', 'args': {'user_preferences': 'flying'}, 'id': 'call_YOXvbf1do80N4I9gQbcyVU0W', 'type': 'tool_call'}], usage_metadata={'input_tokens': 1203, 'output_tokens': 48, 'total_tokens': 1251, 'input_token_details': {'audio': 0, 'cache_read': 0}, 'output_token_details': {'audio': 0, 'reasoning': 0}})]}\n",
      "\u001b[36;1m\u001b[1;3m[2:tasks]\u001b[0m \u001b[1mStarting 1 task for step 2:\n",
      "\u001b[0m- \u001b[32;1m\u001b[1;3mtools\u001b[0m -> {'is_last_step': False,\n",
      " 'messages': [HumanMessage(content='my name is sam controlman and i want to plan a holiday from 25th to 30th december. I like flying and am flying from ABCD.', additional_kwargs={}, response_metadata={}, id='ef038b95-a1ed-419c-96dc-d2b91c328d49'),\n",
      "              AIMessage(content='It looks like you enjoy flying. Let me first find a suitable city recommendation for your holiday based on your interest. Please hold on a moment.', additional_kwargs={'tool_calls': [{'id': 'call_YOXvbf1do80N4I9gQbcyVU0W', 'function': {'arguments': '{\"user_preferences\":\"flying\"}', 'name': 'city_recommendation_tool'}, 'type': 'function'}], 'refusal': None}, response_metadata={'token_usage': {'completion_tokens': 48, 'prompt_tokens': 1203, 'total_tokens': 1251, 'completion_tokens_details': {'accepted_prediction_tokens': 0, 'audio_tokens': 0, 'reasoning_tokens': 0, 'rejected_prediction_tokens': 0}, 'prompt_tokens_details': {'audio_tokens': 0, 'cached_tokens': 0}}, 'model_name': 'gpt-4-turbo-2024-04-09', 'system_fingerprint': 'fp_cfb5f9efa7', 'finish_reason': 'tool_calls', 'logprobs': None}, id='run-281cf49d-7699-4c51-8307-f3e77bbb7795-0', tool_calls=[{'name': 'city_recommendation_tool', 'args': {'user_preferences': 'flying'}, 'id': 'call_YOXvbf1do80N4I9gQbcyVU0W', 'type': 'tool_call'}], usage_metadata={'input_tokens': 1203, 'output_tokens': 48, 'total_tokens': 1251, 'input_token_details': {'audio': 0, 'cache_read': 0}, 'output_token_details': {'audio': 0, 'reasoning': 0}})],\n",
      " 'remaining_steps': 23}\n",
      "\u001b[36;1m\u001b[1;3m[2:writes]\u001b[0m \u001b[1mFinished step 2 with writes to 1 channel:\n",
      "\u001b[0m- \u001b[33;1m\u001b[1;3mmessages\u001b[0m -> [ToolMessage(content=\"Based on your preferences: 'flying'\\n\\nHere are 3 recommended cities:\\n\\n1. Queenstown, New Zealand\\n   Matching aspects: Queenstown is an adventure capital surrounded by stunning natural beauty. \\n        It offers activities like bungee jumping, skydiving, and jet boating. \\n        Visitors can explore Lake Wakatipu, nearby wineries, and mountain trails. \\n        The town's vibrant atmosphere includes cozy cafes and lively bars. \\n        It's perfect for thrill-seekers and nature enthusiasts.\\n\\n2. Tokyo, Japan\\n   Matching aspects: Tokyo is a dynamic city blending tradition with innovation. \\n        It offers futuristic skyscrapers, historic temples, and bustling markets. \\n        Visitors can enjoy diverse cuisines, vibrant shopping districts, and unique cultural experiences. \\n        The city's efficient public transport makes it easy to explore. \\n        It's ideal for tech enthusiasts and cultural adventurers.\\n\\n3. Dubai, UAE\\n   Matching aspects: Dubai is a futuristic city known for its luxury and innovation. \\n        It features iconic landmarks like the Burj Khalifa, Palm Jumeirah, and Dubai Mall. \\n        Visitors can enjoy desert safaris, luxury shopping, and world-class dining. \\n        The city also offers cultural experiences like traditional souks and dhow cruises. \\n        It's ideal for luxury travelers and adventure seekers.\\n\", name='city_recommendation_tool', tool_call_id='call_YOXvbf1do80N4I9gQbcyVU0W')]\n",
      "\u001b[36;1m\u001b[1;3m[2:checkpoint]\u001b[0m \u001b[1mState at the end of step 2:\n",
      "\u001b[0m{'messages': [HumanMessage(content='my name is sam controlman and i want to plan a holiday from 25th to 30th december. I like flying and am flying from ABCD.', additional_kwargs={}, response_metadata={}, id='ef038b95-a1ed-419c-96dc-d2b91c328d49'),\n",
      "              AIMessage(content='It looks like you enjoy flying. Let me first find a suitable city recommendation for your holiday based on your interest. Please hold on a moment.', additional_kwargs={'tool_calls': [{'id': 'call_YOXvbf1do80N4I9gQbcyVU0W', 'function': {'arguments': '{\"user_preferences\":\"flying\"}', 'name': 'city_recommendation_tool'}, 'type': 'function'}], 'refusal': None}, response_metadata={'token_usage': {'completion_tokens': 48, 'prompt_tokens': 1203, 'total_tokens': 1251, 'completion_tokens_details': {'accepted_prediction_tokens': 0, 'audio_tokens': 0, 'reasoning_tokens': 0, 'rejected_prediction_tokens': 0}, 'prompt_tokens_details': {'audio_tokens': 0, 'cached_tokens': 0}}, 'model_name': 'gpt-4-turbo-2024-04-09', 'system_fingerprint': 'fp_cfb5f9efa7', 'finish_reason': 'tool_calls', 'logprobs': None}, id='run-281cf49d-7699-4c51-8307-f3e77bbb7795-0', tool_calls=[{'name': 'city_recommendation_tool', 'args': {'user_preferences': 'flying'}, 'id': 'call_YOXvbf1do80N4I9gQbcyVU0W', 'type': 'tool_call'}], usage_metadata={'input_tokens': 1203, 'output_tokens': 48, 'total_tokens': 1251, 'input_token_details': {'audio': 0, 'cache_read': 0}, 'output_token_details': {'audio': 0, 'reasoning': 0}}),\n",
      "              ToolMessage(content=\"Based on your preferences: 'flying'\\n\\nHere are 3 recommended cities:\\n\\n1. Queenstown, New Zealand\\n   Matching aspects: Queenstown is an adventure capital surrounded by stunning natural beauty. \\n        It offers activities like bungee jumping, skydiving, and jet boating. \\n        Visitors can explore Lake Wakatipu, nearby wineries, and mountain trails. \\n        The town's vibrant atmosphere includes cozy cafes and lively bars. \\n        It's perfect for thrill-seekers and nature enthusiasts.\\n\\n2. Tokyo, Japan\\n   Matching aspects: Tokyo is a dynamic city blending tradition with innovation. \\n        It offers futuristic skyscrapers, historic temples, and bustling markets. \\n        Visitors can enjoy diverse cuisines, vibrant shopping districts, and unique cultural experiences. \\n        The city's efficient public transport makes it easy to explore. \\n        It's ideal for tech enthusiasts and cultural adventurers.\\n\\n3. Dubai, UAE\\n   Matching aspects: Dubai is a futuristic city known for its luxury and innovation. \\n        It features iconic landmarks like the Burj Khalifa, Palm Jumeirah, and Dubai Mall. \\n        Visitors can enjoy desert safaris, luxury shopping, and world-class dining. \\n        The city also offers cultural experiences like traditional souks and dhow cruises. \\n        It's ideal for luxury travelers and adventure seekers.\\n\", name='city_recommendation_tool', id='e9ed0433-64a5-4a7b-b16d-ce16f352e829', tool_call_id='call_YOXvbf1do80N4I9gQbcyVU0W')]}\n",
      "\u001b[36;1m\u001b[1;3m[3:tasks]\u001b[0m \u001b[1mStarting 1 task for step 3:\n",
      "\u001b[0m- \u001b[32;1m\u001b[1;3magent\u001b[0m -> {'is_last_step': False,\n",
      " 'messages': [HumanMessage(content='my name is sam controlman and i want to plan a holiday from 25th to 30th december. I like flying and am flying from ABCD.', additional_kwargs={}, response_metadata={}, id='ef038b95-a1ed-419c-96dc-d2b91c328d49'),\n",
      "              AIMessage(content='It looks like you enjoy flying. Let me first find a suitable city recommendation for your holiday based on your interest. Please hold on a moment.', additional_kwargs={'tool_calls': [{'id': 'call_YOXvbf1do80N4I9gQbcyVU0W', 'function': {'arguments': '{\"user_preferences\":\"flying\"}', 'name': 'city_recommendation_tool'}, 'type': 'function'}], 'refusal': None}, response_metadata={'token_usage': {'completion_tokens': 48, 'prompt_tokens': 1203, 'total_tokens': 1251, 'completion_tokens_details': {'accepted_prediction_tokens': 0, 'audio_tokens': 0, 'reasoning_tokens': 0, 'rejected_prediction_tokens': 0}, 'prompt_tokens_details': {'audio_tokens': 0, 'cached_tokens': 0}}, 'model_name': 'gpt-4-turbo-2024-04-09', 'system_fingerprint': 'fp_cfb5f9efa7', 'finish_reason': 'tool_calls', 'logprobs': None}, id='run-281cf49d-7699-4c51-8307-f3e77bbb7795-0', tool_calls=[{'name': 'city_recommendation_tool', 'args': {'user_preferences': 'flying'}, 'id': 'call_YOXvbf1do80N4I9gQbcyVU0W', 'type': 'tool_call'}], usage_metadata={'input_tokens': 1203, 'output_tokens': 48, 'total_tokens': 1251, 'input_token_details': {'audio': 0, 'cache_read': 0}, 'output_token_details': {'audio': 0, 'reasoning': 0}}),\n",
      "              ToolMessage(content=\"Based on your preferences: 'flying'\\n\\nHere are 3 recommended cities:\\n\\n1. Queenstown, New Zealand\\n   Matching aspects: Queenstown is an adventure capital surrounded by stunning natural beauty. \\n        It offers activities like bungee jumping, skydiving, and jet boating. \\n        Visitors can explore Lake Wakatipu, nearby wineries, and mountain trails. \\n        The town's vibrant atmosphere includes cozy cafes and lively bars. \\n        It's perfect for thrill-seekers and nature enthusiasts.\\n\\n2. Tokyo, Japan\\n   Matching aspects: Tokyo is a dynamic city blending tradition with innovation. \\n        It offers futuristic skyscrapers, historic temples, and bustling markets. \\n        Visitors can enjoy diverse cuisines, vibrant shopping districts, and unique cultural experiences. \\n        The city's efficient public transport makes it easy to explore. \\n        It's ideal for tech enthusiasts and cultural adventurers.\\n\\n3. Dubai, UAE\\n   Matching aspects: Dubai is a futuristic city known for its luxury and innovation. \\n        It features iconic landmarks like the Burj Khalifa, Palm Jumeirah, and Dubai Mall. \\n        Visitors can enjoy desert safaris, luxury shopping, and world-class dining. \\n        The city also offers cultural experiences like traditional souks and dhow cruises. \\n        It's ideal for luxury travelers and adventure seekers.\\n\", name='city_recommendation_tool', id='e9ed0433-64a5-4a7b-b16d-ce16f352e829', tool_call_id='call_YOXvbf1do80N4I9gQbcyVU0W')],\n",
      " 'remaining_steps': 22}\n",
      "\u001b[36;1m\u001b[1;3m[3:writes]\u001b[0m \u001b[1mFinished step 3 with writes to 1 channel:\n",
      "\u001b[0m- \u001b[33;1m\u001b[1;3mmessages\u001b[0m -> [AIMessage(content=\"Queenstown, New Zealand, is an excellent choice for your holiday as it's known for its adventure activities and stunning natural beauty. It's perfect for someone who enjoys flying, with activities like skydiving and jet boating available.\\n\\nLet's proceed with booking your flight. Since you're flying from ABCD, please confirm if this is a correct airport code, or provide the nearest major airport IATA code.\", additional_kwargs={'refusal': None}, response_metadata={'token_usage': {'completion_tokens': 84, 'prompt_tokens': 1543, 'total_tokens': 1627, 'completion_tokens_details': {'accepted_prediction_tokens': 0, 'audio_tokens': 0, 'reasoning_tokens': 0, 'rejected_prediction_tokens': 0}, 'prompt_tokens_details': {'audio_tokens': 0, 'cached_tokens': 0}}, 'model_name': 'gpt-4-turbo-2024-04-09', 'system_fingerprint': 'fp_cfb5f9efa7', 'finish_reason': 'stop', 'logprobs': None}, id='run-8c08a7c0-4d10-4bec-ab6a-4eb85efe2287-0', usage_metadata={'input_tokens': 1543, 'output_tokens': 84, 'total_tokens': 1627, 'input_token_details': {'audio': 0, 'cache_read': 0}, 'output_token_details': {'audio': 0, 'reasoning': 0}})]\n",
      "\u001b[36;1m\u001b[1;3m[3:checkpoint]\u001b[0m \u001b[1mState at the end of step 3:\n",
      "\u001b[0m{'messages': [HumanMessage(content='my name is sam controlman and i want to plan a holiday from 25th to 30th december. I like flying and am flying from ABCD.', additional_kwargs={}, response_metadata={}, id='ef038b95-a1ed-419c-96dc-d2b91c328d49'),\n",
      "              AIMessage(content='It looks like you enjoy flying. Let me first find a suitable city recommendation for your holiday based on your interest. Please hold on a moment.', additional_kwargs={'tool_calls': [{'id': 'call_YOXvbf1do80N4I9gQbcyVU0W', 'function': {'arguments': '{\"user_preferences\":\"flying\"}', 'name': 'city_recommendation_tool'}, 'type': 'function'}], 'refusal': None}, response_metadata={'token_usage': {'completion_tokens': 48, 'prompt_tokens': 1203, 'total_tokens': 1251, 'completion_tokens_details': {'accepted_prediction_tokens': 0, 'audio_tokens': 0, 'reasoning_tokens': 0, 'rejected_prediction_tokens': 0}, 'prompt_tokens_details': {'audio_tokens': 0, 'cached_tokens': 0}}, 'model_name': 'gpt-4-turbo-2024-04-09', 'system_fingerprint': 'fp_cfb5f9efa7', 'finish_reason': 'tool_calls', 'logprobs': None}, id='run-281cf49d-7699-4c51-8307-f3e77bbb7795-0', tool_calls=[{'name': 'city_recommendation_tool', 'args': {'user_preferences': 'flying'}, 'id': 'call_YOXvbf1do80N4I9gQbcyVU0W', 'type': 'tool_call'}], usage_metadata={'input_tokens': 1203, 'output_tokens': 48, 'total_tokens': 1251, 'input_token_details': {'audio': 0, 'cache_read': 0}, 'output_token_details': {'audio': 0, 'reasoning': 0}}),\n",
      "              ToolMessage(content=\"Based on your preferences: 'flying'\\n\\nHere are 3 recommended cities:\\n\\n1. Queenstown, New Zealand\\n   Matching aspects: Queenstown is an adventure capital surrounded by stunning natural beauty. \\n        It offers activities like bungee jumping, skydiving, and jet boating. \\n        Visitors can explore Lake Wakatipu, nearby wineries, and mountain trails. \\n        The town's vibrant atmosphere includes cozy cafes and lively bars. \\n        It's perfect for thrill-seekers and nature enthusiasts.\\n\\n2. Tokyo, Japan\\n   Matching aspects: Tokyo is a dynamic city blending tradition with innovation. \\n        It offers futuristic skyscrapers, historic temples, and bustling markets. \\n        Visitors can enjoy diverse cuisines, vibrant shopping districts, and unique cultural experiences. \\n        The city's efficient public transport makes it easy to explore. \\n        It's ideal for tech enthusiasts and cultural adventurers.\\n\\n3. Dubai, UAE\\n   Matching aspects: Dubai is a futuristic city known for its luxury and innovation. \\n        It features iconic landmarks like the Burj Khalifa, Palm Jumeirah, and Dubai Mall. \\n        Visitors can enjoy desert safaris, luxury shopping, and world-class dining. \\n        The city also offers cultural experiences like traditional souks and dhow cruises. \\n        It's ideal for luxury travelers and adventure seekers.\\n\", name='city_recommendation_tool', id='e9ed0433-64a5-4a7b-b16d-ce16f352e829', tool_call_id='call_YOXvbf1do80N4I9gQbcyVU0W'),\n",
      "              AIMessage(content=\"Queenstown, New Zealand, is an excellent choice for your holiday as it's known for its adventure activities and stunning natural beauty. It's perfect for someone who enjoys flying, with activities like skydiving and jet boating available.\\n\\nLet's proceed with booking your flight. Since you're flying from ABCD, please confirm if this is a correct airport code, or provide the nearest major airport IATA code.\", additional_kwargs={'refusal': None}, response_metadata={'token_usage': {'completion_tokens': 84, 'prompt_tokens': 1543, 'total_tokens': 1627, 'completion_tokens_details': {'accepted_prediction_tokens': 0, 'audio_tokens': 0, 'reasoning_tokens': 0, 'rejected_prediction_tokens': 0}, 'prompt_tokens_details': {'audio_tokens': 0, 'cached_tokens': 0}}, 'model_name': 'gpt-4-turbo-2024-04-09', 'system_fingerprint': 'fp_cfb5f9efa7', 'finish_reason': 'stop', 'logprobs': None}, id='run-8c08a7c0-4d10-4bec-ab6a-4eb85efe2287-0', usage_metadata={'input_tokens': 1543, 'output_tokens': 84, 'total_tokens': 1627, 'input_token_details': {'audio': 0, 'cache_read': 0}, 'output_token_details': {'audio': 0, 'reasoning': 0}})]}\n",
      "Total Tokens: 2878\n",
      "Prompt Tokens: 2746\n",
      "Completion Tokens: 132\n",
      "Total Cost (USD): $0.0314\n"
     ]
    }
   ],
   "source": [
    "from langchain.callbacks import get_openai_callback\n",
    "\n",
    "messages = [(\"user\", \"my name is sam controlman and i want to plan a holiday from 25th to 30th december. I like flying and am flying from ABCD.\")]\n",
    "\n",
    "with get_openai_callback() as cb:\n",
    "    response = agent.invoke({\"messages\": messages})\n",
    "    print(f\"Total Tokens: {cb.total_tokens}\")\n",
    "    print(f\"Prompt Tokens: {cb.prompt_tokens}\")\n",
    "    print(f\"Completion Tokens: {cb.completion_tokens}\")\n",
    "    print(f\"Total Cost (USD): ${cb.total_cost:.4f}\")"
   ]
  },
  {
   "cell_type": "code",
   "execution_count": 8,
   "metadata": {},
   "outputs": [
    {
     "name": "stdout",
     "output_type": "stream",
     "text": [
      "Queenstown, New Zealand, is an excellent choice for your holiday as it's known for its adventure activities and stunning natural beauty. It's perfect for someone who enjoys flying, with activities like skydiving and jet boating available.\n",
      "\n",
      "Let's proceed with booking your flight. Since you're flying from ABCD, please confirm if this is a correct airport code, or provide the nearest major airport IATA code.\n"
     ]
    }
   ],
   "source": [
    "print(response['messages'][-1].content)"
   ]
  }
 ],
 "metadata": {
  "kernelspec": {
   "display_name": "Python 3 (ipykernel)",
   "language": "python",
   "name": "python3"
  },
  "language_info": {
   "codemirror_mode": {
    "name": "ipython",
    "version": 3
   },
   "file_extension": ".py",
   "mimetype": "text/x-python",
   "name": "python",
   "nbconvert_exporter": "python",
   "pygments_lexer": "ipython3",
   "version": "3.12.5"
  }
 },
 "nbformat": 4,
 "nbformat_minor": 4
}
